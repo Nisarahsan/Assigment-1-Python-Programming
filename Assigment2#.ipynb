{
 "cells": [
  {
   "cell_type": "code",
   "execution_count": 13,
   "metadata": {},
   "outputs": [
    {
     "name": "stdout",
     "output_type": "stream",
     "text": [
      "Enter the first Subject marks: 50\n",
      "Enter the Second Subject marks: 44\n",
      "Enter the Third Subject marks:: 66\n",
      "Enter the fourth Subject marks: 70\n",
      "Enter the fifth Subject marks: 98\n",
      "Grade: D\n"
     ]
    }
   ],
   "source": [
    "subject1 = int (input (\"Enter the first Subject marks: \"))\n",
    "subject2 = int (input (\"Enter the Second Subject marks: \"))\n",
    "subject3 = int (input (\"Enter the Third Subject marks:: \"))\n",
    "subject4 = int (input (\"Enter the fourth Subject marks: \"))\n",
    "subject5 = int (input (\"Enter the fifth Subject marks: \"))\n",
    "avg = (subject1+subject2+subject3+subject4+subject5)/5\n",
    "\n",
    "if avg>=90:\n",
    "    print(\"Grade: A\")\n",
    "elif avg>=80 and avg<90:\n",
    "    print(\"Grade: B\")\n",
    "elif avg>=70 and avg<80:\n",
    "    print(\"Grade: C\")\n",
    "elif avg>=60 and avg<70:\n",
    "    print(\"Grade: D\")\n",
    "else:\n",
    "    print(\"Grade: F\")"
   ]
  },
  {
   "cell_type": "code",
   "execution_count": 5,
   "metadata": {},
   "outputs": [
    {
     "name": "stdout",
     "output_type": "stream",
     "text": [
      "Enter a number: 13\n",
      "odd\n"
     ]
    }
   ],
   "source": [
    "number = int (input (\"Enter a number: \"))\n",
    "if (number % 2) == 0:\n",
    "    print (\"even\")\n",
    "else:\n",
    "    print(\"odd\")"
   ]
  },
  {
   "cell_type": "code",
   "execution_count": 14,
   "metadata": {},
   "outputs": [
    {
     "name": "stdout",
     "output_type": "stream",
     "text": [
      "4\n"
     ]
    }
   ],
   "source": [
    "lists = [\"Orange \", \"Apple\",\"Banana\",\"Pineapple\"]\n",
    "print(len(lists))"
   ]
  },
  {
   "cell_type": "code",
   "execution_count": 16,
   "metadata": {},
   "outputs": [
    {
     "name": "stdout",
     "output_type": "stream",
     "text": [
      "sum is : 80\n"
     ]
    }
   ],
   "source": [
    "lists = [1,3,60,9,4,2,1]\n",
    "print(\"sum is :\",sum(lists))"
   ]
  },
  {
   "cell_type": "code",
   "execution_count": 18,
   "metadata": {},
   "outputs": [
    {
     "name": "stdout",
     "output_type": "stream",
     "text": [
      "Largest Number : 60\n"
     ]
    }
   ],
   "source": [
    "lists = [1,3,60,9,4,2,]\n",
    "print(\"Largest Number :\", max(lists))"
   ]
  },
  {
   "cell_type": "code",
   "execution_count": 20,
   "metadata": {},
   "outputs": [
    {
     "name": "stdout",
     "output_type": "stream",
     "text": [
      "[1, 1, 2, 3, 5, 8]\n"
     ]
    }
   ],
   "source": [
    "lists = [1,1,2,3,5,8,13,21,34,55,89]\n",
    "sorteds = sorted(i for i in lists if i<9)\n",
    "print(sorteds)"
   ]
  },
  {
   "cell_type": "code",
   "execution_count": 21,
   "metadata": {},
   "outputs": [
    {
     "name": "stdout",
     "output_type": "stream",
     "text": [
      "[1, 1, 2, 3, 5, 8, 13]\n"
     ]
    }
   ],
   "source": [
    "lists = [1,1,2,3,5,8,13,21,34,55,89]\n",
    "sorteds = sorted(i for i in lists if i<15)\n",
    "print(sorteds)"
   ]
  },
  {
   "cell_type": "code",
   "execution_count": null,
   "metadata": {},
   "outputs": [],
   "source": []
  }
 ],
 "metadata": {
  "kernelspec": {
   "display_name": "Python 3",
   "language": "python",
   "name": "python3"
  },
  "language_info": {
   "codemirror_mode": {
    "name": "ipython",
    "version": 3
   },
   "file_extension": ".py",
   "mimetype": "text/x-python",
   "name": "python",
   "nbconvert_exporter": "python",
   "pygments_lexer": "ipython3",
   "version": "3.7.4"
  }
 },
 "nbformat": 4,
 "nbformat_minor": 2
}
