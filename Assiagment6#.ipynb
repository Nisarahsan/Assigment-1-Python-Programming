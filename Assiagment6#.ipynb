{
 "cells": [
  {
   "cell_type": "code",
   "execution_count": null,
   "metadata": {},
   "outputs": [],
   "source": [
    "Q:1 Define Object Oriented Programming Language?\n",
    "Object-oriented programming can improve the developer's ability to quickly prototype software, extend existing functionality, refactor the code, and maintain it as it's developed.\n",
    "Principle 1. Inheritance\n",
    "Inheritance is a mechanism that lets you describe a new class based on an existing (parent) class. In doing so, the new class borrows the properties and functionality of the parent class\n",
    "Principle 2. Abstraction\n",
    "This is a very simple principle. Abstraction means to identify the main, most significant characteristics of something, while simultaneously discarding anything minor and insignificant.\n",
    "Principle 3. Encapsulation\n",
    "As you can see, the term is based on the word \"capsule\". We'll use a \"capsule\" to hide some important data that we don't want others to change. \n",
    "\n",
    "Principle 4. Polymorphism\n",
    "Polymorphism is the ability to work with several types as if they were the same type. Moreover, the objects' behavior will be different depending on their type. \n"
   ]
  },
  {
   "cell_type": "code",
   "execution_count": null,
   "metadata": {},
   "outputs": [],
   "source": [
    "Q:2 List down the Benefits of OOP?\n",
    "Benefits of OOP, we would like to say that there are many as this is one of the core development approaches which is widely accepted. Let’s see what are the Benefits of OOP offers to its users.\n",
    "Re-usability\n",
    " Data Redundancy\n",
    "Code Maintenance\n",
    " Security\n",
    "Design Benefits\n",
    "Better productivity\n",
    "Polymorphism Flexibility\n",
    "Easy troubleshooting"
   ]
  },
  {
   "cell_type": "code",
   "execution_count": null,
   "metadata": {},
   "outputs": [],
   "source": [
    "Q:3 Differentiate between function and method.?\n",
    "Function\n",
    "A function is a block of code to carry out a specific task, will contain its own scope and is called by name. All functions may contain zero(no) arguments or more than one arguments. On exit, a function can or can not return one or more values\n",
    "\n",
    "Method\n",
    "A method in python is somewhat similar to a function, except it is associated with object/classes. Methods in python are very similar to functions except for two major differences.\n",
    "The method is implicitly used for an object for which it is called.\n",
    "The method is accessible to data that is contained within the class."
   ]
  },
  {
   "cell_type": "code",
   "execution_count": null,
   "metadata": {},
   "outputs": [],
   "source": [
    "Q:4 Define the following terms\n",
    "Class : Classes provide a means of bundling data and functionality together. Creating a new class creates a new type of object, allowing new instances of that type to be made. Each class instance can have attributes attached to it for maintaining its state. Class instances can also have methods (defined by its class) for modifying its state.\n",
    "Object : A unique instance of a data structure that's defined by its class. An object comprises both data members (class variables and instance variables) and methods.\n",
    "Attribute : An instance attribute is a Python variable belonging to one, and only one, object. This variable is only accessible in the scope of this object and it is defined inside the constructor function, __init__(self,..) of the class.\n",
    "Behavior : An individual object of a certain class. An object obj that belongs to a class Circle, for example, is an instance of the class Circle.\n"
   ]
  },
  {
   "cell_type": "code",
   "execution_count": 13,
   "metadata": {},
   "outputs": [
    {
     "name": "stdout",
     "output_type": "stream",
     "text": [
      "BMW Manual\n",
      "2019\n",
      "call method\n",
      "white\n",
      "Auto\n",
      "300000\n"
     ]
    }
   ],
   "source": [
    "\n",
    "Question:5\n",
    "class Car:\n",
    "    \n",
    "    def __init__(self, model, color, name, company, prices):\n",
    "        self.model = model\n",
    "        self.color = color\n",
    "        self.name = name\n",
    "        self.company = company\n",
    "        self.prices = prices\n",
    "\n",
    "    def cardecps(self):\n",
    "        print(self.model,self.company)\n",
    "    \n",
    "    def callmethod(self):\n",
    "        print('call method')\n",
    "        \n",
    "    def carColor(self):\n",
    "        print(self.color)\n",
    "    \n",
    "\n",
    "car1 = Car('BMW','2018','red','Manual',344340)\n",
    "car2 = Car('HONDA','2019','white','Auto',452343)\n",
    "car3 = Car('tesla X','2017','gray','Auto',100000)\n",
    "car4 = Car('swift','2015','blue','Manual',300000)\n",
    "car5 = Car('audi','2016','black','automatic',300000)\n",
    "\n",
    "car1.cardecps()\n",
    "car2.carColor()\n",
    "car2.callmethod()\n",
    "\n",
    "print(car2.name)\n",
    "print(car3.company)\n",
    "print(car5.prices)"
   ]
  },
  {
   "cell_type": "code",
   "execution_count": null,
   "metadata": {},
   "outputs": [],
   "source": []
  }
 ],
 "metadata": {
  "kernelspec": {
   "display_name": "Python 3",
   "language": "python",
   "name": "python3"
  },
  "language_info": {
   "codemirror_mode": {
    "name": "ipython",
    "version": 3
   },
   "file_extension": ".py",
   "mimetype": "text/x-python",
   "name": "python",
   "nbconvert_exporter": "python",
   "pygments_lexer": "ipython3",
   "version": "3.7.4"
  }
 },
 "nbformat": 4,
 "nbformat_minor": 2
}
