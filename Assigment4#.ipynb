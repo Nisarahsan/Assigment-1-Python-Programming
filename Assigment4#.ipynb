{
 "cells": [
  {
   "cell_type": "code",
   "execution_count": 22,
   "metadata": {},
   "outputs": [
    {
     "name": "stdout",
     "output_type": "stream",
     "text": [
      "# Dictionary Data\n",
      "\n",
      "First_name = Ahsan\n",
      "Last_name = Nisar\n",
      "Age = 22\n",
      "City = Hyderabad\n",
      "\n",
      "# Qualification\n",
      "\n",
      "First_name = Ahsan\n",
      "Last_name = Nisar\n",
      "Age = 22\n",
      "City = Hyderabad\n",
      "Qualification = Graduation\n",
      "\n",
      "\n",
      "# Removing \n",
      "\n",
      "First_name = Ahsan\n",
      "Last_name = Nisar\n",
      "Age = 22\n",
      "City = Hyderabad\n"
     ]
    }
   ],
   "source": [
    "#Question1\n",
    "\n",
    "custom = {'First_name':'Ahsan',\n",
    "     'Last_name' : 'Nisar',\n",
    "     'Age' : '22',\n",
    "    'City':'Hyderabad'\n",
    "    }\n",
    "\n",
    "print('# Dictionary Data\\n')\n",
    "for x in custom:\n",
    "    print(x + ' = ' + custom.get(x))\n",
    "        \n",
    "print('\\n# Qualification\\n')\n",
    "custom['Qualification'] = 'Graduation\\n'\n",
    "\n",
    "for x in custom:\n",
    "    print(x + ' = ' + custom.get(x))\n",
    "    \n",
    "print('\\n# Removing \\n')\n",
    "custom.pop('Qualification')\n",
    "\n",
    "for x in custom:\n",
    "    print(x + ' = ' + custom.get(x))"
   ]
  },
  {
   "cell_type": "code",
   "execution_count": 28,
   "metadata": {},
   "outputs": [
    {
     "name": "stdout",
     "output_type": "stream",
     "text": [
      "\n",
      "Sharjah {'country': 'Dubai', 'population': '1.4 million', 'fact': '3-Star Hotel Average Rs : 9,360'}\n",
      "\n",
      "New_York {'country': 'United States', 'population': '8.623 million (2015)', 'fact': 'While New York City is the largest city in New York the state capital is actually Albany which has the population of New York City'}\n",
      "\n",
      "moscow {'country': 'Russia', 'population': '15.1  million', 'fact': 'Moscow is a major hub of culture. Important museums, such as the Tretyakov Gallery, are located in Moscow.'}\n"
     ]
    }
   ],
   "source": [
    "\n",
    "#Question2\n",
    "\n",
    "cities = {'Sharjah':{'country':'Dubai',\n",
    "                    'population':'1.4 million',\n",
    "                    'fact':'3-Star Hotel Average Rs : 9,360'\n",
    "                   },\n",
    "          'New_York':{'country':'United States',\n",
    "                     'population':'8.623 million (2015)',\n",
    "                     'fact':'While New York City is the largest city in New York the state capital is actually Albany which has the population of New York City'\n",
    "                    },\n",
    "          'moscow': {'country':'Russia',\n",
    "                       'population':'15.1  million',\n",
    "                       'fact':'Moscow is a major hub of culture. Important museums, such as the Tretyakov Gallery, are located in Moscow.'\n",
    "                      } \n",
    "         }\n",
    "  \n",
    "for k in cities.keys():\n",
    "    print (\"\\n\" + k, cities[k])"
   ]
  },
  {
   "cell_type": "code",
   "execution_count": 32,
   "metadata": {},
   "outputs": [
    {
     "name": "stdout",
     "output_type": "stream",
     "text": [
      "Put your age here 5\n",
      "\n",
      "Ticket price is $10\n"
     ]
    }
   ],
   "source": [
    "\n",
    "#Question3\n",
    "\n",
    "cd = 1\n",
    "age = int(input(\"Put your age here \"))\n",
    "    \n",
    "while cd == 1 :\n",
    "    if age <= 3:\n",
    "        print(\"\\nYou ticket is free\")\n",
    "        break\n",
    "    elif age >= 3 and age <= 12:\n",
    "        print(\"\\nTicket price is $10\")\n",
    "        break\n",
    "    elif age > 12:\n",
    "        print(\"\\nTicket price is $15\")\n",
    "        break\n",
    "    else:\n",
    "        print('invalid age try again')"
   ]
  },
  {
   "cell_type": "code",
   "execution_count": 34,
   "metadata": {},
   "outputs": [
    {
     "name": "stdout",
     "output_type": "stream",
     "text": [
      "Operation System is One of my favorite books\n"
     ]
    }
   ],
   "source": [
    "#Question4\n",
    "\n",
    "def favorite_book(title):\n",
    "    print(\"{0} is One of my favorite books\".format(title))\n",
    "    \n",
    "favorite_book('Operation System')"
   ]
  },
  {
   "cell_type": "code",
   "execution_count": 35,
   "metadata": {},
   "outputs": [
    {
     "name": "stdout",
     "output_type": "stream",
     "text": [
      "I am thinking of a number between 1 and 30.\n",
      "Take a guess.\n",
      "3\n",
      "Your guess is too low.\n",
      "Take a guess.\n",
      "5\n",
      "Your guess is too low.\n",
      "Take a guess.\n",
      "9\n",
      "Your guess is too low.\n",
      "Nope. The number I was thinking of was 21\n"
     ]
    }
   ],
   "source": [
    "\n",
    "#Question5\n",
    "\n",
    "import random\n",
    " \n",
    "guessesTaken = 0\n",
    "number = random.randint(1, 30)\n",
    "print('I am thinking of a number between 1 and 30.')\n",
    "\n",
    "while guessesTaken < 3:\n",
    "    print('Take a guess.')\n",
    "    guess = int(input())\n",
    "    guessesTaken = guessesTaken + 1\n",
    "\n",
    "    if guess < number:\n",
    "        print('Your guess is too low.')\n",
    "    if guess > number:\n",
    "        print('Your guess is too high.')\n",
    "    if guess == number:\n",
    "         break\n",
    "\n",
    "if guess == number:\n",
    "    guessesTaken = str(guessesTaken)\n",
    "    print('Good job,You guessed my number in ' + guessesTaken + ' guesses!')\n",
    "\n",
    "if guess != number:\n",
    "    number = str(number)\n",
    "    print('Nope. The number I was thinking of was ' + number)"
   ]
  },
  {
   "cell_type": "code",
   "execution_count": null,
   "metadata": {},
   "outputs": [],
   "source": []
  }
 ],
 "metadata": {
  "kernelspec": {
   "display_name": "Python 3",
   "language": "python",
   "name": "python3"
  },
  "language_info": {
   "codemirror_mode": {
    "name": "ipython",
    "version": 3
   },
   "file_extension": ".py",
   "mimetype": "text/x-python",
   "name": "python",
   "nbconvert_exporter": "python",
   "pygments_lexer": "ipython3",
   "version": "3.7.4"
  }
 },
 "nbformat": 4,
 "nbformat_minor": 2
}
